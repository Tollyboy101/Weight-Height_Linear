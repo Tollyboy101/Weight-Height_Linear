{
 "cells": [
  {
   "cell_type": "code",
   "execution_count": 66,
   "metadata": {},
   "outputs": [
    {
     "data": {
      "text/plain": [
       "<bound method NDFrame.head of       Gender     Height      Weight\n",
       "0       Male  73.847017  241.893563\n",
       "1       Male  68.781904  162.310473\n",
       "2       Male  74.110105  212.740856\n",
       "3       Male  71.730978  220.042470\n",
       "4       Male  69.881796  206.349801\n",
       "5       Male  67.253016  152.212156\n",
       "6       Male  68.785081  183.927889\n",
       "7       Male  68.348516  167.971110\n",
       "8       Male  67.018950  175.929440\n",
       "9       Male  63.456494  156.399676\n",
       "10      Male  71.195382  186.604926\n",
       "11      Male  71.640805  213.741169\n",
       "12      Male  64.766329  167.127461\n",
       "13      Male  69.283070  189.446181\n",
       "14      Male  69.243732  186.434168\n",
       "15      Male  67.645620  172.186930\n",
       "16      Male  72.418317  196.028506\n",
       "17      Male  63.974326  172.883470\n",
       "18      Male  69.640060  185.983958\n",
       "19      Male  67.936005  182.426648\n",
       "20      Male  67.915050  174.115929\n",
       "21      Male  69.439440  197.731422\n",
       "22      Male  66.149132  149.173566\n",
       "23      Male  75.205974  228.761781\n",
       "24      Male  67.893196  162.006652\n",
       "25      Male  68.144033  192.343977\n",
       "26      Male  69.089631  184.435174\n",
       "27      Male  72.800844  206.828189\n",
       "28      Male  67.421242  175.213922\n",
       "29      Male  68.496415  154.342639\n",
       "...      ...        ...         ...\n",
       "9970  Female  65.618737  151.500389\n",
       "9971  Female  64.640247  155.318297\n",
       "9972  Female  60.653733  123.084293\n",
       "9973  Female  60.737031  120.926500\n",
       "9974  Female  65.393947  143.017835\n",
       "9975  Female  66.251923  124.019917\n",
       "9976  Female  61.475904  121.387236\n",
       "9977  Female  64.494838  149.402547\n",
       "9978  Female  57.375759  114.192209\n",
       "9979  Female  62.056012  125.135897\n",
       "9980  Female  60.472262  110.768229\n",
       "9981  Female  60.443264  135.559390\n",
       "9982  Female  69.868511  177.992066\n",
       "9983  Female  65.830726  132.827889\n",
       "9984  Female  59.047029  111.707369\n",
       "9985  Female  68.041065  170.514213\n",
       "9986  Female  63.352698  141.906510\n",
       "9987  Female  65.610243  151.169475\n",
       "9988  Female  59.538729  121.244876\n",
       "9989  Female  60.955084   95.686674\n",
       "9990  Female  63.179498  141.266100\n",
       "9991  Female  62.636675  102.853563\n",
       "9992  Female  62.077832  138.691680\n",
       "9993  Female  60.030434   97.687432\n",
       "9994  Female  59.098250  110.529686\n",
       "9995  Female  66.172652  136.777454\n",
       "9996  Female  67.067155  170.867906\n",
       "9997  Female  63.867992  128.475319\n",
       "9998  Female  69.034243  163.852461\n",
       "9999  Female  61.944246  113.649103\n",
       "\n",
       "[10000 rows x 3 columns]>"
      ]
     },
     "execution_count": 66,
     "metadata": {},
     "output_type": "execute_result"
    }
   ],
   "source": [
    "import pandas as pd\n",
    "import matplotlib.pyplot as plt\n",
    "\n",
    "csv = 'C:\\\\Users\\\\Alex\\\\Downloads\\\\weight-height.csv'\n",
    "\n",
    "df = pd.read_csv(csv)\n",
    "df.head"
   ]
  },
  {
   "cell_type": "code",
   "execution_count": 67,
   "metadata": {},
   "outputs": [
    {
     "name": "stdout",
     "output_type": "stream",
     "text": [
      "[1.]\n",
      "[1.]\n"
     ]
    }
   ],
   "source": [
    "x_train = df['Height'].values\n",
    "x_train = x_train * 2.54\n",
    "x_train = x_train / 200.65680556\n",
    "y_train = df['Weight'].values\n",
    "y_train = y_train / 2.2046226218\n",
    "y_train = y_train / 122.46526722\n",
    "\n",
    "X = np.array(x_train).reshape(-1,1)\n",
    "y = np.array(y_train).reshape(-1,1)\n",
    "\n",
    "X = X[:5000]\n",
    "y = y[:5000]\n",
    "\n",
    "print(max(X))\n",
    "print(max(y))\n"
   ]
  },
  {
   "cell_type": "code",
   "execution_count": 68,
   "metadata": {},
   "outputs": [
    {
     "data": {
      "image/png": "[encoded data removed]",
      "text/plain": [
       "<Figure size 432x288 with 1 Axes>"
      ]
     },
     "metadata": {},
     "output_type": "display_data"
    },
    {
     "name": "stdout",
     "output_type": "stream",
     "text": [
      "[[0.93478725]\n",
      " [0.87067087]\n",
      " [0.93811753]\n",
      " [0.90800152]\n",
      " [0.88459378]\n",
      " [0.85131755]\n",
      " [0.87071109]\n",
      " [0.86518486]\n",
      " [0.84835464]\n",
      " [0.80325955]]\n",
      "[[0.89593627]\n",
      " [0.60117284]\n",
      " [0.78795916]\n",
      " [0.81500321]\n",
      " [0.76428768]\n",
      " [0.56377023]\n",
      " [0.68124039]\n",
      " [0.62213896]\n",
      " [0.65161538]\n",
      " [0.57928016]]\n"
     ]
    }
   ],
   "source": [
    "plt.figure()\n",
    "plt.scatter(x_train, y_train, c=None)\n",
    "plt.show()\n",
    "print(X[:10])\n",
    "print(y[:10])"
   ]
  },
  {
   "cell_type": "code",
   "execution_count": 69,
   "metadata": {},
   "outputs": [
    {
     "name": "stdout",
     "output_type": "stream",
     "text": [
      "Train on 4500 samples, validate on 500 samples\n",
      "Epoch 1/3\n",
      "4500/4500 [==============================] - 4s 868us/step - loss: 0.0039 - mean_squared_error: 0.0039 - val_loss: 0.0018 - val_mean_squared_error: 0.0018\n",
      "Epoch 2/3\n",
      "4500/4500 [==============================] - 3s 682us/step - loss: 0.0019 - mean_squared_error: 0.0019 - val_loss: 0.0037 - val_mean_squared_error: 0.0037\n",
      "Epoch 3/3\n",
      "4500/4500 [==============================] - 3s 668us/step - loss: 0.0018 - mean_squared_error: 0.0018 - val_loss: 0.0014 - val_mean_squared_error: 0.0014\n"
     ]
    },
    {
     "data": {
      "text/plain": [
       "[<matplotlib.lines.Line2D at 0x2302adb6240>]"
      ]
     },
     "execution_count": 69,
     "metadata": {},
     "output_type": "execute_result"
    },
    {
     "data": {
      "image/png": "[encoded data removed]",
      "text/plain": [
       "<Figure size 432x288 with 1 Axes>"
      ]
     },
     "metadata": {},
     "output_type": "display_data"
    }
   ],
   "source": [
    "from tensorflow.keras.models import Sequential\n",
    "from tensorflow.keras.layers import Dense, Activation\n",
    "import numpy as np\n",
    "\n",
    "model = Sequential()\n",
    "model.add(Dense(36, activation='relu'))\n",
    "model.add(Dense(18))\n",
    "model.add(Dense(1))\n",
    "\n",
    "model.compile(optimizer='adam',\n",
    "              loss='mean_squared_error',\n",
    "              metrics=['mse'])\n",
    "\n",
    "history = model.fit(X,y, batch_size=1, epochs=3, validation_split=0.1)\n",
    "\n",
    "plt.plot(history.history['mean_squared_error'], c=None)\n",
    "plt.plot(history.history['val_mean_squared_error'], c='r')\n"
   ]
  },
  {
   "cell_type": "code",
   "execution_count": 86,
   "metadata": {},
   "outputs": [
    {
     "name": "stdout",
     "output_type": "stream",
     "text": [
      "[[ 70.67735 ]\n",
      " [ 61.163193]\n",
      " [ 90.9133  ]\n",
      " [ 85.846954]\n",
      " [111.178535]]\n"
     ]
    }
   ],
   "source": [
    "x_test = np.array([[160],[150],[180],[175],[200]]) / 200.65680556\n",
    "x_test = np.array(x_test).reshape(-1,1)\n",
    "prediction = model.predict(x_test) * 122.46526722\n",
    "print(prediction)"
   ]
  },
  {
   "cell_type": "code",
   "execution_count": 87,
   "metadata": {},
   "outputs": [
    {
     "data": {
      "text/plain": [
       "Text(0,0.5,'Weight')"
      ]
     },
     "execution_count": 87,
     "metadata": {},
     "output_type": "execute_result"
    },
    {
     "data": {
      "image/png": "[encoded data removed]",
      "text/plain": [
       "<Figure size 432x288 with 1 Axes>"
      ]
     },
     "metadata": {},
     "output_type": "display_data"
    }
   ],
   "source": [
    "plt.plot(x_test * 200.65680556 , prediction, c='black', linewidth=3)\n",
    "plt.scatter(X* 200.65680556,y*122.46526722, c='b')\n",
    "plt.xlabel(\"Height\")\n",
    "plt.ylabel(\"Weight\")"
   ]
  },
  {
   "cell_type": "markdown",
   "metadata": {},
   "source": []
  },
  {
   "cell_type": "code",
   "execution_count": null,
   "metadata": {},
   "outputs": [],
   "source": [
    "#model.save(\"Weight-Height.model\")"
   ]
  },
  {
   "cell_type": "code",
   "execution_count": null,
   "metadata": {},
   "outputs": [],
   "source": [
    "#model.save(\"Weight-Height.json\")"
   ]
  },
  {
   "cell_type": "code",
   "execution_count": null,
   "metadata": {},
   "outputs": [],
   "source": []
  }
 ],
 "metadata": {
  "kernelspec": {
   "display_name": "Python 3",
   "language": "python",
   "name": "python3"
  },
  "language_info": {
   "codemirror_mode": {
    "name": "ipython",
    "version": 3
   },
   "file_extension": ".py",
   "mimetype": "text/x-python",
   "name": "python",
   "nbconvert_exporter": "python",
   "pygments_lexer": "ipython3",
   "version": "3.5.2"
  }
 },
 "nbformat": 4,
 "nbformat_minor": 2
}
